{
 "cells": [
  {
   "cell_type": "code",
   "execution_count": null,
   "id": "8aef5077-0397-4f1e-8d15-bf88f684b3d6",
   "metadata": {},
   "outputs": [],
   "source": [
    "import pandas as pd\n",
    "import numpy as np\n",
    "import matplotlib.pyplot as plt\n",
    "import seaborn as sns\n",
    "from scipy.stats import zscore\n",
    "\n",
    "sns.set(style='whitegrid')\n"
   ]
  },
  {
   "cell_type": "code",
   "execution_count": null,
   "id": "b453c004-5cd5-4407-9096-7b2a9e6669ac",
   "metadata": {},
   "outputs": [],
   "source": [
    "df = pd.read_csv('../data/benin.csv', parse_dates=['Timestamp'])\n",
    "df.head()\n"
   ]
  },
  {
   "cell_type": "code",
   "execution_count": null,
   "id": "0a683f4b-e76d-4446-b121-2eb69b28a95e",
   "metadata": {},
   "outputs": [],
   "source": [
    "print(df.describe())\n",
    "print(df.isna().sum())\n"
   ]
  },
  {
   "cell_type": "code",
   "execution_count": null,
   "id": "3902ef33-b665-4cfe-8fcd-274cc07a472b",
   "metadata": {},
   "outputs": [],
   "source": [
    "missing_percent = df.isna().mean() * 100\n",
    "high_missing = missing_percent[missing_percent > 5]\n",
    "print(\"Columns with >5% missing values:\")\n",
    "print(high_missing)\n"
   ]
  },
  {
   "cell_type": "code",
   "execution_count": null,
   "id": "7a395843-579e-4c74-a0a8-2bacde9022fb",
   "metadata": {},
   "outputs": [],
   "source": [
    "cols_to_check = ['GHI', 'DNI', 'DHI', 'ModA', 'ModB', 'WS', 'WSgust']\n",
    "df_z = df[cols_to_check].apply(zscore)\n",
    "outliers = (df_z.abs() > 3).any(axis=1)\n",
    "print(f\"Outliers count: {outliers.sum()}\")\n"
   ]
  },
  {
   "cell_type": "code",
   "execution_count": null,
   "id": "f9881a04-7cec-4bf8-94f0-718e11403e73",
   "metadata": {},
   "outputs": [],
   "source": [
    "for col in cols_to_check:\n",
    "    median = df[col].median()\n",
    "    df[col].fillna(median, inplace=True)\n"
   ]
  },
  {
   "cell_type": "code",
   "execution_count": null,
   "id": "f414b025-787e-4c2e-b566-02f48f7482fe",
   "metadata": {},
   "outputs": [],
   "source": [
    "plt.figure(figsize=(12,6))\n",
    "plt.plot(df['Timestamp'], df['GHI'], label='GHI')\n",
    "plt.plot(df['Timestamp'], df['DNI'], label='DNI')\n",
    "plt.plot(df['Timestamp'], df['DHI'], label='DHI')\n",
    "plt.legend()\n",
    "plt.title('Solar Irradiance Over Time')\n",
    "plt.xlabel('Timestamp')\n",
    "plt.ylabel('Irradiance (W/m²)')\n",
    "plt.show()\n"
   ]
  },
  {
   "cell_type": "code",
   "execution_count": null,
   "id": "38734615-6eea-44c8-bd69-76c024358284",
   "metadata": {},
   "outputs": [],
   "source": [
    "plt.figure(figsize=(12,6))\n",
    "plt.plot(df['Timestamp'], df['GHI'], label='GHI')\n",
    "plt.plot(df['Timestamp'], df['DNI'], label='DNI')\n",
    "plt.plot(df['Timestamp'], df['DHI'], label='DHI')\n",
    "plt.legend()\n",
    "plt.title('Solar Irradiance Over Time')\n",
    "plt.xlabel('Timestamp')\n",
    "plt.ylabel('Irradiance (W/m²)')\n",
    "plt.show()\n"
   ]
  },
  {
   "cell_type": "code",
   "execution_count": null,
   "id": "d20e70b0-e378-4972-8492-586b76d3b73d",
   "metadata": {},
   "outputs": [],
   "source": [
    "cleaning_avg = df.groupby('Cleaning')[['ModA','ModB']].mean()\n",
    "cleaning_avg.plot(kind='bar')\n",
    "plt.title('Average Module Irradiance Pre/Post Cleaning')\n",
    "plt.ylabel('Irradiance (W/m²)')\n",
    "plt.show()\n"
   ]
  },
  {
   "cell_type": "code",
   "execution_count": null,
   "id": "d88da4b7-5ced-4bb5-93dc-01b3a1060822",
   "metadata": {},
   "outputs": [],
   "source": [
    "corr = df[['GHI', 'DNI', 'DHI', 'TModA', 'TModB']].corr()\n",
    "sns.heatmap(corr, annot=True, cmap='coolwarm')\n",
    "plt.title('Correlation Heatmap')\n",
    "plt.show()\n"
   ]
  },
  {
   "cell_type": "code",
   "execution_count": null,
   "id": "3292604d-fa64-4d09-be3f-ab744b3de5fb",
   "metadata": {},
   "outputs": [],
   "source": [
    "sns.scatterplot(x='WS', y='GHI', data=df)\n",
    "plt.title('Wind Speed vs. GHI')\n",
    "plt.xlabel('Wind Speed (m/s)')\n",
    "plt.ylabel('GHI (W/m²)')\n",
    "plt.show()\n"
   ]
  },
  {
   "cell_type": "code",
   "execution_count": null,
   "id": "13730a6c-87b0-4478-b244-6c5d194069c5",
   "metadata": {},
   "outputs": [],
   "source": [
    "df.to_csv('../data/benin_clean.csv', index=False)"
   ]
  }
 ],
 "metadata": {
  "kernelspec": {
   "display_name": "Python 3 (ipykernel)",
   "language": "python",
   "name": "python3"
  },
  "language_info": {
   "codemirror_mode": {
    "name": "ipython",
    "version": 3
   },
   "file_extension": ".py",
   "mimetype": "text/x-python",
   "name": "python",
   "nbconvert_exporter": "python",
   "pygments_lexer": "ipython3",
   "version": "3.12.3"
  }
 },
 "nbformat": 4,
 "nbformat_minor": 5
}
