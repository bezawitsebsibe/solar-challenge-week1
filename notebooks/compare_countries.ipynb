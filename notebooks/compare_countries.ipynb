{
 "cells": [
  {
   "cell_type": "code",
   "execution_count": null,
   "id": "d2e1ab8a-b375-42d9-8327-dd2f710ec703",
   "metadata": {},
   "outputs": [],
   "source": [
    "import pandas as pd\n",
    "\n",
    "benin = pd.read_csv('../data/benin_clean.csv')\n",
    "sierra_leone = pd.read_csv('../data/sierra_leone_clean.csv')\n",
    "togo = pd.read_csv('../data/togo_clean.csv')\n",
    "\n",
    "benin['Country'] = 'Benin'\n",
    "sierra_leone['Country'] = 'Sierra Leone'\n",
    "togo['Country'] = 'Togo'\n",
    "\n",
    "df_all = pd.concat([benin, sierra_leone, togo])\n"
   ]
  },
  {
   "cell_type": "code",
   "execution_count": null,
   "id": "3b82ad9b-2eb7-492a-90be-a3aef39051eb",
   "metadata": {},
   "outputs": [],
   "source": [
    "import seaborn as sns\n",
    "import matplotlib.pyplot as plt\n",
    "\n",
    "sns.boxplot(x='Country', y='GHI', data=df_all)\n",
    "plt.title('GHI Distribution by Country')\n",
    "plt.show()\n"
   ]
  },
  {
   "cell_type": "code",
   "execution_count": null,
   "id": "22c6a97f-501e-4076-8084-60cf0334c49f",
   "metadata": {},
   "outputs": [],
   "source": [
    "summary_stats = df_all.groupby('Country')[['GHI', 'DNI', 'DHI']].agg(['mean', 'median', 'std'])\n",
    "print(summary_stats)\n"
   ]
  },
  {
   "cell_type": "code",
   "execution_count": null,
   "id": "b5e6ceca-ad7b-40d8-926d-2b2c038c630e",
   "metadata": {},
   "outputs": [],
   "source": [
    "from scipy.stats import f_oneway\n",
    "\n",
    "groups = [df_all[df_all['Country'] == c]['GHI'] for c in df_all['Country'].unique()]\n",
    "anova_result = f_oneway(*groups)\n",
    "print(f\"ANOVA p-value: {anova_result.pvalue}\")\n"
   ]
  },
  {
   "cell_type": "code",
   "execution_count": null,
   "id": "100ebb39-8e78-4c94-b812-35243998ce1d",
   "metadata": {},
   "outputs": [],
   "source": [
    "- Benin has the highest median GHI.\n",
    "- Sierra Leone shows the greatest variability in DNI.\n",
    "- There is a statistically significant difference in GHI between countries (p < 0.05).\n"
   ]
  }
 ],
 "metadata": {
  "kernelspec": {
   "display_name": "Python 3 (ipykernel)",
   "language": "python",
   "name": "python3"
  },
  "language_info": {
   "codemirror_mode": {
    "name": "ipython",
    "version": 3
   },
   "file_extension": ".py",
   "mimetype": "text/x-python",
   "name": "python",
   "nbconvert_exporter": "python",
   "pygments_lexer": "ipython3",
   "version": "3.12.3"
  }
 },
 "nbformat": 4,
 "nbformat_minor": 5
}
